{
 "cells": [
  {
   "cell_type": "markdown",
   "id": "a34fa3d8",
   "metadata": {},
   "source": [
    "<h1>Importing BeautifulSoup.</h1>\n",
    "<p>We need to import BeautifulSoup to see DarkSky data.</p>"
   ]
  },
  {
   "cell_type": "code",
   "execution_count": 12,
   "id": "a1abf7fc",
   "metadata": {},
   "outputs": [],
   "source": [
    "from bs4 import BeautifulSoup\n",
    "from urllib.request import urlopen"
   ]
  },
  {
   "cell_type": "markdown",
   "id": "a780ae5e",
   "metadata": {},
   "source": [
    "<h1>Define Function for Times.</h1>\n",
    "<p>This function defines the scraping for the time that the low temperature and the time that the high temperature was recorded.</p>"
   ]
  },
  {
   "cell_type": "code",
   "execution_count": 13,
   "id": "fad67551",
   "metadata": {},
   "outputs": [],
   "source": [
    "def getTimes(y, x, someYear, someDay, someMonth):\n",
    "    randomLocation=\"https://darksky.net/details/\"+str(y)+','+str(x)+'/'+str(someYear)+'-'+str(someMonth)+'-'+str(someDay)+\"/us10/en\"\n",
    "    html = urlopen(randomLocation)\n",
    "    soup = BeautifulSoup(html, 'html')\n",
    "    title = soup.title.text\n",
    "    body = soup.body\n",
    "    head = soup.head\n",
    "    highTime = (soup.find(attrs={\"class\": \"highLowTemp swip\"}).find(attrs={\"class\":\"highTemp swip\"}).find(attrs={\"class\":\"time\"})).text.replace('˚', '')\n",
    "    lowTime = (soup.find(attrs={\"class\": \"highLowTemp swip\"}).find(attrs={\"class\":\"lowTemp swap\"}).find(attrs={\"class\":\"time\"})).text.replace('˚', '')\n",
    "    \n",
    "    return highTime, lowTime"
   ]
  },
  {
   "cell_type": "markdown",
   "id": "a493753e",
   "metadata": {},
   "source": [
    "<h1>Define Function for Temps.</h1>\n",
    "<p>This function requires the scraping for the high and low temperatures.</p>"
   ]
  },
  {
   "cell_type": "code",
   "execution_count": 14,
   "id": "c8a9bdc6",
   "metadata": {},
   "outputs": [],
   "source": [
    "def getTemps(y, x, someYear, someDay, someMonth):\n",
    "    randomLocation=\"https://darksky.net/details/\"+str(y)+','+str(x)+'/'+str(someYear)+'-'+str(someMonth)+'-'+str(someDay)+\"/us12/en\"\n",
    "    html = urlopen(randomLocation)\n",
    "    soup = BeautifulSoup(html, 'html')\n",
    "    title = soup.title.text\n",
    "    body = soup.body\n",
    "    head = soup.head\n",
    "    highTemp = (soup.find(attrs={\"class\": \"highLowTemp swip\"}).find(attrs={\"class\":\"lowTemp swap\"}).find(attrs={\"class\":\"temp\"})).text.replace('˚', '')\n",
    "    lowTemp = (soup.find(attrs={\"class\": \"highLowTemp swip\"}).find(attrs={\"class\":\"highTemp swip\"}).find(attrs={\"class\":\"temp\"})).text.replace('˚', '')\n",
    "    \n",
    "    return highTemp, lowTemp"
   ]
  },
  {
   "cell_type": "markdown",
   "id": "0dcaabe9",
   "metadata": {},
   "source": [
    "<h1>Define Function for Conditions.</h1>\n",
    "<p>Using this function, we can determine the conditions that occurred.</p>"
   ]
  },
  {
   "cell_type": "code",
   "execution_count": 15,
   "id": "0a8e23c5",
   "metadata": {},
   "outputs": [],
   "source": [
    "def getConditions(y, x, someYear, someDay, someMonth):    \n",
    "    randomLocation=\"https://darksky.net/details/\"+str(y)+','+str(x)+'/'+str(someYear)+'-'+str(someMonth)+'-'+str(someDay)+\"/us12/en\"\n",
    "    html = urlopen(randomLocation)\n",
    "    soup = BeautifulSoup(html, 'html')\n",
    "    title = soup.title.text\n",
    "    body = soup.body\n",
    "    head = soup.head\n",
    "    conditionStatement = soup.find(id= \"summary\").text.replace('˚', '')\n",
    "    \n",
    "    return conditionStatement"
   ]
  },
  {
   "cell_type": "markdown",
   "id": "8708f459",
   "metadata": {},
   "source": [
    "<h1>Convert Military Time to Regular Time</h1>\n",
    "<p>This is a terrible function (very inefficient) that converts Military Time (as provided by DarkSky to Normal Time.</p>"
   ]
  },
  {
   "cell_type": "code",
   "execution_count": 10,
   "id": "8f4c738e",
   "metadata": {},
   "outputs": [],
   "source": [
    "def removeColonAndFormatCorrectly(x1, x2):\n",
    "    x1_pm = 0\n",
    "    x2_pm = 0\n",
    "    \n",
    "    x1_list = x1.split(':', 2)\n",
    "    x2_list = x2.split(':', 2)\n",
    "    \n",
    "    x1_list = [int(i) for i in x1_list]\n",
    "    x2_list = [int(i) for i in x2_list]\n",
    "    \n",
    "    if(x1_list[0] > 12):\n",
    "        x1_list[0] = x1_list[0] - 12\n",
    "        x1_pm = 1\n",
    "    \n",
    "    if(x2_list[0] > 12):\n",
    "        x2_list[0] = x2_list[0] - 12\n",
    "        x2_pm = 1\n",
    "    \n",
    "    x1_list = [str(x) for x in x1_list]\n",
    "    x2_list = [str(x) for x in x2_list]\n",
    "    \n",
    "    x1_list.insert(1, ':')\n",
    "    x2_list.insert(1, ':')\n",
    "    \n",
    "    x1_final = ' '.join(x1_list)\n",
    "    x2_final = ' '.join(x2_list)\n",
    "\n",
    "    x1_final = x1_final.replace(' ', '')\n",
    "    x2_final = x2_final.replace(' ', '')\n",
    "    \n",
    "    if(x1_pm == 1):\n",
    "        x1_final = x1_final + ' PM'\n",
    "    else:\n",
    "        x1_final = x1_final + ' AM'\n",
    "    \n",
    "    if(x2_pm == 1):\n",
    "        x2_final = x2_final + ' PM'\n",
    "    else:\n",
    "        x2_final = x2_final + ' AM'\n",
    "    \n",
    "    return x1_final, x2_final"
   ]
  },
  {
   "cell_type": "markdown",
   "id": "97703c70",
   "metadata": {},
   "source": [
    "<h1>Execute and Print Function</h1>\n",
    "<p>This prints out the scraped data in a pretty way.</p>"
   ]
  },
  {
   "cell_type": "code",
   "execution_count": 16,
   "id": "2d11f447",
   "metadata": {},
   "outputs": [],
   "source": [
    "high, low = getTimes(35.19266, -113.5254, 2022, 1, 4)\n",
    "highT, lowT = getTemps(35.19266, -113.5254, 2022, 1, 4)\n",
    "list1, list2 = removeColonAndFormatCorrectly(high, low)\n",
    "weatherCondition = getConditions(35.19266, -113.5254, 2022, 1, 4)"
   ]
  },
  {
   "cell_type": "code",
   "execution_count": 17,
   "id": "e09d394f",
   "metadata": {},
   "outputs": [
    {
     "name": "stdout",
     "output_type": "stream",
     "text": [
      "The Lowest Temperature, which was 44 °F, was recorded at 5:29 AM.\n",
      "The Highest Temperature, which was 71 °F,  was recorded at 3:50 PM.\n",
      "Condition: Clear throughout the day.\n"
     ]
    }
   ],
   "source": [
    "print('The Lowest Temperature, which was ' + str(lowT) + ' °F,' + ' was recorded at', list1 + '.')\n",
    "print('The Highest Temperature, which was ' + str(highT) + ' °F,' + '  was recorded at', list2 + '.')\n",
    "print('Condition: ' + weatherCondition)"
   ]
  },
  {
   "cell_type": "markdown",
   "id": "be668aa2",
   "metadata": {},
   "source": [
    "<h1>Make a Pretty Graph w/ MatPlotLib!</h1>\n",
    "<p>Now, we will add a label at each point which indicates the time it reached high and the temp. it was at.</p>"
   ]
  },
  {
   "cell_type": "code",
   "execution_count": 18,
   "id": "d9de703b",
   "metadata": {},
   "outputs": [],
   "source": [
    "import matplotlib.pyplot as plt\n",
    "import numpy as np"
   ]
  },
  {
   "cell_type": "code",
   "execution_count": 22,
   "id": "7087f01f",
   "metadata": {},
   "outputs": [],
   "source": [
    "from jupyterthemes import jtplot\n",
    "jtplot.style()"
   ]
  },
  {
   "cell_type": "code",
   "execution_count": 30,
   "id": "08b115fb",
   "metadata": {},
   "outputs": [
    {
     "data": {
      "image/png": "[encoded data removed]",
      "text/plain": [
       "<Figure size 1152x864 with 1 Axes>"
      ]
     },
     "metadata": {},
     "output_type": "display_data"
    }
   ],
   "source": [
    "fig, ax = plt.subplots(figsize=(16, 12))\n",
    "ticks = [1, 2]\n",
    "x_ticks_labels = ['low', 'high']\n",
    "y = [lowT, highT]\n",
    "\n",
    "plt.xticks(ticks, x_ticks_labels)\n",
    "plt.plot(y)\n",
    "plt.show()"
   ]
  }
 ],
 "metadata": {
  "kernelspec": {
   "display_name": "Python 3",
   "language": "python",
   "name": "python3"
  },
  "language_info": {
   "codemirror_mode": {
    "name": "ipython",
    "version": 3
   },
   "file_extension": ".py",
   "mimetype": "text/x-python",
   "name": "python",
   "nbconvert_exporter": "python",
   "pygments_lexer": "ipython3",
   "version": "3.8.8"
  }
 },
 "nbformat": 4,
 "nbformat_minor": 5
}
